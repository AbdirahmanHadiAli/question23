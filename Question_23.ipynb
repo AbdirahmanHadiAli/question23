{
 "cells": [
  {
   "cell_type": "markdown",
   "id": "a008db3e",
   "metadata": {},
   "source": [
    "In a jupyter notebook solve the following question using python. Please upload the notebook to GitHub and provide the link submission box below.\n",
    "\n",
    "\n",
    "\n",
    "Develop a recursive function tough() that takes two nonnegative integer arguments and outputs a pattern as shown below.\n",
    "Hint: The first argument represents the indentation of the pattern, where the second argument -- always a pattern of 2 indicates the number stars(*)s in the longest line of *s in the pattern\n"
   ]
  },
  {
   "cell_type": "markdown",
   "id": "d4d5af11",
   "metadata": {},
   "source": [
    ">>> f(0,0)"
   ]
  },
  {
   "cell_type": "code",
   "execution_count": 4,
   "id": "53f25a38",
   "metadata": {},
   "outputs": [],
   "source": [
    "def tough(indentation, pattern_of_2):\n",
    "    if pattern_of_2 == 0:\n",
    "        return\n",
    "    print(\" \" * indentation + \"*\" * (2 ** (pattern_of_2 - 1)))\n",
    "    \n",
    "    \n",
    "    tough(indentation, pattern_of_2 - 1)\n",
    "\n"
   ]
  },
  {
   "cell_type": "code",
   "execution_count": 5,
   "id": "4f03edf9",
   "metadata": {},
   "outputs": [
    {
     "name": "stdout",
     "output_type": "stream",
     "text": [
      "********\n",
      "****\n",
      "**\n",
      "*\n"
     ]
    }
   ],
   "source": [
    "tough(0, 4)\n"
   ]
  },
  {
   "cell_type": "code",
   "execution_count": 6,
   "id": "28f057e4",
   "metadata": {},
   "outputs": [
    {
     "name": "stdout",
     "output_type": "stream",
     "text": [
      "****************\n",
      "********\n",
      "****\n",
      "**\n",
      "*\n"
     ]
    }
   ],
   "source": [
    "\n",
    "tough(0, 5)"
   ]
  },
  {
   "cell_type": "code",
   "execution_count": 7,
   "id": "07319dcc",
   "metadata": {},
   "outputs": [
    {
     "name": "stdout",
     "output_type": "stream",
     "text": [
      "****************************************************************\n",
      "********************************\n",
      "****************\n",
      "********\n",
      "****\n",
      "**\n",
      "*\n"
     ]
    }
   ],
   "source": [
    "tough(0, 7)"
   ]
  },
  {
   "cell_type": "code",
   "execution_count": null,
   "id": "63ce33a3",
   "metadata": {},
   "outputs": [],
   "source": []
  }
 ],
 "metadata": {
  "kernelspec": {
   "display_name": "Python 3 (ipykernel)",
   "language": "python",
   "name": "python3"
  },
  "language_info": {
   "codemirror_mode": {
    "name": "ipython",
    "version": 3
   },
   "file_extension": ".py",
   "mimetype": "text/x-python",
   "name": "python",
   "nbconvert_exporter": "python",
   "pygments_lexer": "ipython3",
   "version": "3.11.5"
  }
 },
 "nbformat": 4,
 "nbformat_minor": 5
}
